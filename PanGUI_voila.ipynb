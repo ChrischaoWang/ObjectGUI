{
 "cells": [
  {
   "cell_type": "code",
   "execution_count": 25,
   "metadata": {},
   "outputs": [
    {
     "data": {
      "application/vnd.jupyter.widget-view+json": {
       "model_id": "66e99221eac744c9a741881ff2bea9c2",
       "version_major": 2,
       "version_minor": 0
      },
      "text/plain": [
       "Canvas(toolbar=Toolbar(toolitems=[('Home', 'Reset original view', 'home', 'home'), ('Back', 'Back to previous …"
      ]
     },
     "metadata": {},
     "output_type": "display_data"
    },
    {
     "data": {
      "application/vnd.jupyter.widget-view+json": {
       "model_id": "b701724f924744c6af24885e38ad66ab",
       "version_major": 2,
       "version_minor": 0
      },
      "text/plain": [
       "HBox(children=(Button(description='Pre', style=ButtonStyle()), Text(value='0', placeholder='Index'), Button(de…"
      ]
     },
     "metadata": {},
     "output_type": "display_data"
    }
   ],
   "source": [
    "%matplotlib widget\n",
    "import ipympl\n",
    "import numpy as np\n",
    "import matplotlib.pyplot as plt\n",
    "import PyHippocampus as pyh\n",
    "import DataProcessingTools as DPT\n",
    "import os\n",
    "import ipywidgets as widgets\n",
    "\n",
    "os.chdir(\"/Users/chris/Downloads/picasso-misc/20181105/session01\")\n",
    "plotobj = DPT.objects.processDirs(None, pyh.Unity)\n",
    "\n",
    "fig, ax = plt.subplots()\n",
    "plotopts = plotobj.plot(getPlotOpts=True)\n",
    "index = 0\n",
    "currentIndex = str(index)\n",
    "numEvents = 100_000\n",
    "nn, newIdx = plotobj.plot(index, getNumEvents=True)\n",
    "numEvents = min(numEvents, nn)\n",
    "plotobj.plot(index, ax=ax, **plotopts)\n",
    "\n",
    "\n",
    "pre_button = widgets.Button(description='Pre')\n",
    "next_button = widgets.Button(description='Next')\n",
    "\n",
    "index_show = widgets.Text(value = currentIndex,\n",
    "                 placeholder='Index',\n",
    "                 description= \"\",\n",
    "                 disabled=False)\n",
    "\n",
    "def update_index(new_index):\n",
    "    global index\n",
    "    if 0 <= new_index < numEvents:\n",
    "        index = new_index\n",
    "    else:\n",
    "        index = index\n",
    "        \n",
    "def plot():\n",
    "    \"\"\"\n",
    "    Call plot for each object with the current plot index.\n",
    "    \"\"\"\n",
    "    for _ax in fig.axes:\n",
    "        _ax.clear()\n",
    "#     for (i, plotobj) in enumerate(plotobjs):\n",
    "    plotobj.plot(index, ax=ax)\n",
    "\n",
    "def on_pre_button_clicked(_):\n",
    "    update_index(index-1)\n",
    "    index_show.value = str(index)\n",
    "    plot()\n",
    "\n",
    "def on_next_button_clicked(_):\n",
    "    update_index(index+1)\n",
    "    index_show.value = str(index)\n",
    "    plot()\n",
    "\n",
    "def updateIndex(wdgt):\n",
    "    update_index(int(index_show.value))\n",
    "    index_show.value = str(index)\n",
    "    for _ax in fig.axes:\n",
    "        _ax.clear()\n",
    "#         for (i, plotobj) in enumerate(self.plotobjs):\n",
    "    plotobj.plot(index, ax=ax)\n",
    "\n",
    "index_show.on_submit(updateIndex)\n",
    "pre_button.on_click(on_pre_button_clicked)\n",
    "next_button.on_click(on_next_button_clicked)\n",
    "\n",
    "plt.show()\n",
    "display(widgets.HBox([pre_button,index_show,next_button]))"
   ]
  },
  {
   "cell_type": "code",
   "execution_count": null,
   "metadata": {},
   "outputs": [],
   "source": []
  }
 ],
 "metadata": {
  "kernelspec": {
   "display_name": "Python 3",
   "language": "python",
   "name": "python3"
  },
  "language_info": {
   "codemirror_mode": {
    "name": "ipython",
    "version": 3
   },
   "file_extension": ".py",
   "mimetype": "text/x-python",
   "name": "python",
   "nbconvert_exporter": "python",
   "pygments_lexer": "ipython3",
   "version": "3.7.6"
  }
 },
 "nbformat": 4,
 "nbformat_minor": 4
}
