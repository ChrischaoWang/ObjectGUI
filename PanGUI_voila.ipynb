{
 "cells": [
  {
   "cell_type": "code",
   "execution_count": 32,
   "metadata": {},
   "outputs": [
    {
     "data": {
      "application/vnd.jupyter.widget-view+json": {
       "model_id": "3de6304eec954d6d81fb9c0e106e48d6",
       "version_major": 2,
       "version_minor": 0
      },
      "text/plain": [
       "Canvas(toolbar=Toolbar(toolitems=[('Home', 'Reset original view', 'home', 'home'), ('Back', 'Back to previous …"
      ]
     },
     "metadata": {},
     "output_type": "display_data"
    },
    {
     "data": {
      "application/vnd.jupyter.widget-view+json": {
       "model_id": "91fcfe8aabf84e4297efbd21774b61d6",
       "version_major": 2,
       "version_minor": 0
      },
      "text/plain": [
       "HBox(children=(Button(description='Pre', style=ButtonStyle()), Text(value='0', placeholder='Index'), Button(de…"
      ]
     },
     "metadata": {},
     "output_type": "display_data"
    },
    {
     "data": {
      "application/vnd.jupyter.widget-view+json": {
       "model_id": "b52cbd52176a4bffb20709ad9428a6ab",
       "version_major": 2,
       "version_minor": 0
      },
      "text/plain": [
       "VBox(children=(Dropdown(description='Plot Setting', options=('Plot Option', 'Frame Interval Triggers', 'Number…"
      ]
     },
     "metadata": {},
     "output_type": "display_data"
    },
    {
     "data": {
      "application/vnd.jupyter.widget-view+json": {
       "model_id": "f365ee7f5d5d4fda8691e94031fbd667",
       "version_major": 2,
       "version_minor": 0
      },
      "text/plain": [
       "VBox()"
      ]
     },
     "metadata": {},
     "output_type": "display_data"
    }
   ],
   "source": [
    "%matplotlib widget\n",
    "import ipympl\n",
    "import numpy as np\n",
    "import matplotlib.pyplot as plt\n",
    "import PyHippocampus as pyh\n",
    "import DataProcessingTools as DPT\n",
    "import os\n",
    "import ipywidgets as widgets\n",
    "\n",
    "os.chdir(\"/Users/chris/Downloads/picasso-misc/20181105/session01\")\n",
    "a = DPT.objects.processDirs(None, pyh.Unity)\n",
    "os.chdir(\"/Users/chris/Downloads/picasso-misc/20181105/session02\")\n",
    "b = DPT.objects.processDirs(None, pyh.Unity)\n",
    "os.chdir(\"/Users/chris/Downloads/picasso-misc/20181105/session3\")\n",
    "c = DPT.objects.processDirs(None, pyh.Unity)\n",
    "plotobjs = [a,b,c]\n",
    "\n",
    "class Main():\n",
    "    def __init__(self, plotobjs, rows=None, cols=None, indexer=None):\n",
    "        fig= plt.figure()\n",
    "        self.fig = fig\n",
    "        \n",
    "        if hasattr(plotobjs, '__getitem__'):\n",
    "            self.plotobjs = plotobjs\n",
    "        else:\n",
    "            self.plotobjs = [plotobjs]\n",
    "\n",
    "        self.pre_button = widgets.Button(description='Pre')\n",
    "        self.next_button = widgets.Button(description='Next')\n",
    "        self.index_show = widgets.Text(value = '0',\n",
    "                         placeholder='Index',\n",
    "                         description= \"\",\n",
    "                         disabled=False)\n",
    "        \n",
    "        self.index_show.on_submit(self.updateIndex)\n",
    "        self.pre_button.on_click(self.goprev)\n",
    "        self.next_button.on_click(self.gonext)\n",
    "        display(widgets.HBox([self.pre_button,self.index_show,self.next_button]))\n",
    "        \n",
    "        self.plotopts = [plotobj.plot(getPlotOpts=True) for plotobj in self.plotobjs]\n",
    "        self.index = 0\n",
    "        if cols is None:\n",
    "            cols = 1\n",
    "        if rows is None:\n",
    "            rows = np.ceil(len(self.plotobjs)/cols)\n",
    "        self.numEvents = 100_000\n",
    "        \n",
    "        self.plotopt_widget = {}\n",
    "        self.plotopt_sel_result = widgets.VBox([])\n",
    "        for (i, a) in enumerate(self.plotopts):\n",
    "            widget = widgets.Dropdown(options=a.keys(),\n",
    "                                              value=None,\n",
    "                                              description=\"Plot Setting\",\n",
    "                                              disabled=False)\n",
    "            self.plotopt_widget[widget] = i\n",
    "            widget.observe(self.select_setting)\n",
    "        self.setting_widget = widgets.VBox(tuple(self.plotopt_widget.keys()))\n",
    "        display(self.setting_widget)\n",
    "        display(self.plotopt_sel_result)\n",
    "        \n",
    "        for (i, plotobj) in enumerate(self.plotobjs):\n",
    "            ax = fig.add_subplot(rows, cols, i+1)\n",
    "            nn, newIdx = plotobj.plot(self.index, getNumEvents=True)\n",
    "            self.numEvents = min(self.numEvents, nn)\n",
    "            plotobj.plot(self.index, ax=ax, **self.plotopts[i])\n",
    "            if newIdx is not None and newIdx != self.index:\n",
    "                self.index_show.value = str(self.newIdx)\n",
    "                self.updateIndex()\n",
    "    \n",
    "    def select_setting(self,change):\n",
    "        if change['type'] == 'change' and change['name'] == 'value':\n",
    "            index = self.plotopt_widget[change.owner]\n",
    "            plotopt_sel = self.plotopts[index]\n",
    "            new = change['new']\n",
    "            v = plotopt_sel[new]\n",
    "            widget = []\n",
    "            if isinstance(v, bool):\n",
    "                w = widgets.Checkbox(value=v,\n",
    "                                     description='',\n",
    "                                     disabled=False)\n",
    "                widget += [w]\n",
    "            elif isinstance(v, dict):\n",
    "                for key in v:\n",
    "                    w = widgets.IntText(value=v[key],\n",
    "                                        description=key,\n",
    "                                        disabled=False)\n",
    "                    widget += [w]\n",
    "            elif isinstance(v, int):\n",
    "                w = widgets.IntText(value=v,\n",
    "                                    description=new,\n",
    "                                    disabled=False)\n",
    "                widget += [w]\n",
    "            elif isinstance(v, DPT.objects.ExclusiveOptions):\n",
    "                w = widgets.Dropdown(options=v.options,\n",
    "                                     value=v.options[v.checked],\n",
    "                                     description=new,\n",
    "                                     disabled=False)\n",
    "                widget += [w]\n",
    "            else:\n",
    "                w = widgets.Text(value = str(v),\n",
    "                     placeholder='',\n",
    "                     description=new,\n",
    "                     disabled=False)\n",
    "                widget += [w]\n",
    "            self.plotopt_sel_result.children=tuple(widget)\n",
    "        \n",
    "                \n",
    "    def update_level(self, level):\n",
    "        # crazy high intial values so that the new value is always lower\n",
    "        num_events = 100_000\n",
    "        newIdx = 100_000\n",
    "        for (plotobj, plotopts) in zip(self.plotobjs, self.plotopts):\n",
    "            nn, _newIdx = plotobj.plot(self.index, getNumEvents=True, **plotopts)\n",
    "            num_events = min(num_events, nn)\n",
    "            newIdx = min(newIdx, _newIdx)\n",
    "        self.numEvents = num_events\n",
    "        self.index_show.value = str(self.newIdx)\n",
    "        self.updateIndex()\n",
    "    \n",
    "    def update_index(self, new_index):\n",
    "        index = self.index\n",
    "        if 0 <= new_index < self.numEvents:\n",
    "            index = new_index\n",
    "        else:\n",
    "            index = self.index\n",
    "\n",
    "        self.index = index\n",
    "    \n",
    "    def gonext(self,_):\n",
    "        self.update_index(self.index+1)\n",
    "        self.index_show.value = str(self.index)\n",
    "        self.plot()\n",
    "    \n",
    "    def goprev(self,_):\n",
    "        self.update_index(self.index-1)\n",
    "        self.index_show.value = str(self.index)\n",
    "        self.plot()\n",
    "    \n",
    "    def plot(self):\n",
    "        for _ax in self.fig.axes:\n",
    "            _ax.clear()\n",
    "        for (i, plotobj) in enumerate(self.plotobjs):\n",
    "            plotobj.plot(self.index, ax=self.fig.axes[i], **self.plotopts[i])\n",
    "    \n",
    "    def updateIndex(self,wdgt):\n",
    "        self.update_index(int(wdgt.value))\n",
    "        wdgt.value = str(self.index)\n",
    "        for _ax in self.fig.axes:\n",
    "            _ax.clear()\n",
    "        for (i, plotobj) in enumerate(self.plotobjs):\n",
    "            plotobj.plot(self.index, ax=self.fig.axes[i], **self.plotopts[i])\n",
    "\n",
    "a = Main(plotobjs=plotobjs)"
   ]
  },
  {
   "cell_type": "code",
   "execution_count": null,
   "metadata": {},
   "outputs": [],
   "source": []
  }
 ],
 "metadata": {
  "kernelspec": {
   "display_name": "Python 3",
   "language": "python",
   "name": "python3"
  },
  "language_info": {
   "codemirror_mode": {
    "name": "ipython",
    "version": 3
   },
   "file_extension": ".py",
   "mimetype": "text/x-python",
   "name": "python",
   "nbconvert_exporter": "python",
   "pygments_lexer": "ipython3",
   "version": "3.7.6"
  }
 },
 "nbformat": 4,
 "nbformat_minor": 4
}
