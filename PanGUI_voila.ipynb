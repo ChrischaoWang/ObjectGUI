{
 "cells": [
  {
   "cell_type": "code",
   "execution_count": 56,
   "metadata": {},
   "outputs": [
    {
     "data": {
      "application/vnd.jupyter.widget-view+json": {
       "model_id": "704591f10fe54eb4b204f46b52963cdd",
       "version_major": 2,
       "version_minor": 0
      },
      "text/plain": [
       "Canvas(toolbar=Toolbar(toolitems=[('Home', 'Reset original view', 'home', 'home'), ('Back', 'Back to previous …"
      ]
     },
     "metadata": {},
     "output_type": "display_data"
    },
    {
     "data": {
      "application/vnd.jupyter.widget-view+json": {
       "model_id": "91150fafd3c04a2d81d4d4d0230b4b96",
       "version_major": 2,
       "version_minor": 0
      },
      "text/plain": [
       "HBox(children=(Button(description='Pre', style=ButtonStyle()), Text(value='0', placeholder='Index'), Button(de…"
      ]
     },
     "metadata": {},
     "output_type": "display_data"
    }
   ],
   "source": [
    "%matplotlib widget\n",
    "import ipympl\n",
    "import numpy as np\n",
    "import matplotlib.pyplot as plt\n",
    "import PyHippocampus as pyh\n",
    "import DataProcessingTools as DPT\n",
    "import os\n",
    "import ipywidgets as widgets\n",
    "\n",
    "os.chdir(\"/Users/chris/Downloads/picasso-misc/20181105/session01\")\n",
    "a = DPT.objects.processDirs(None, pyh.Unity)\n",
    "os.chdir(\"/Users/chris/Downloads/picasso-misc/20181105/session02\")\n",
    "b = DPT.objects.processDirs(None, pyh.Unity)\n",
    "os.chdir(\"/Users/chris/Downloads/picasso-misc/20181105/session3\")\n",
    "c = DPT.objects.processDirs(None, pyh.Unity)\n",
    "plotobjs = [a,b,c]\n",
    "\n",
    "class Main():\n",
    "    def __init__(self, plotobjs, rows=None, cols=None, indexer=None):\n",
    "        fig= plt.figure()\n",
    "        self.fig = fig\n",
    "        \n",
    "        if hasattr(plotobjs, '__getitem__'):\n",
    "            self.plotobjs = plotobjs\n",
    "        else:\n",
    "            self.plotobjs = [plotobjs]\n",
    "\n",
    "        self.pre_button = widgets.Button(description='Pre')\n",
    "        self.next_button = widgets.Button(description='Next')\n",
    "        self.index_show = widgets.Text(value = currentIndex,\n",
    "                         placeholder='Index',\n",
    "                         description= \"\",\n",
    "                         disabled=False)\n",
    "        \n",
    "        self.index_show.on_submit(self.updateIndex)\n",
    "        self.pre_button.on_click(self.goprev)\n",
    "        self.next_button.on_click(self.gonext)\n",
    "        display(widgets.HBox([self.pre_button,self.index_show,self.next_button]))\n",
    "        \n",
    "        self.plotopts = [plotobj.plot(getPlotOpts=True) for plotobj in self.plotobjs]\n",
    "        self.index = 0\n",
    "        if cols is None:\n",
    "            cols = 1\n",
    "        if rows is None:\n",
    "            rows = np.ceil(len(self.plotobjs)/cols)\n",
    "        self.numEvents = 100_000\n",
    "        \n",
    "        for (i, plotobj) in enumerate(self.plotobjs):\n",
    "            ax = fig.add_subplot(rows, cols, i+1)\n",
    "            nn, newIdx = plotobj.plot(self.index, getNumEvents=True)\n",
    "            self.numEvents = min(self.numEvents, nn)\n",
    "            plotobj.plot(self.index, ax=ax, **self.plotopts[i])\n",
    "            if newIdx is not None and newIdx != self.index:\n",
    "                self.index_show.value = str(self.newIdx)\n",
    "                self.updateIndex()\n",
    "    \n",
    "    def update_index(self, new_index):\n",
    "        index = self.index\n",
    "        if 0 <= new_index < self.numEvents:\n",
    "            index = new_index\n",
    "        else:\n",
    "            index = self.index\n",
    "\n",
    "        self.index = index\n",
    "    \n",
    "    def gonext(self,_):\n",
    "        self.update_index(self.index+1)\n",
    "        self.index_show.value = str(self.index)\n",
    "        self.plot()\n",
    "    \n",
    "    def goprev(self,_):\n",
    "        self.update_index(self.index-1)\n",
    "        self.index_show.value = str(self.index)\n",
    "        self.plot()\n",
    "    \n",
    "    def plot(self):\n",
    "        for _ax in self.fig.axes:\n",
    "            _ax.clear()\n",
    "        for (i, plotobj) in enumerate(self.plotobjs):\n",
    "            plotobj.plot(self.index, ax=self.fig.axes[i], **self.plotopts[i])\n",
    "    \n",
    "    def updateIndex(self,wdgt):\n",
    "        self.update_index(int(wdgt.value))\n",
    "        wdgt.value = str(self.index)\n",
    "        for _ax in self.fig.axes:\n",
    "            _ax.clear()\n",
    "        for (i, plotobj) in enumerate(self.plotobjs):\n",
    "            plotobj.plot(self.index, ax=self.fig.axes[i], **self.plotopts[i])\n",
    "\n",
    "a = Main(plotobjs=plotobjs)"
   ]
  },
  {
   "cell_type": "code",
   "execution_count": null,
   "metadata": {},
   "outputs": [],
   "source": []
  }
 ],
 "metadata": {
  "kernelspec": {
   "display_name": "Python 3",
   "language": "python",
   "name": "python3"
  },
  "language_info": {
   "codemirror_mode": {
    "name": "ipython",
    "version": 3
   },
   "file_extension": ".py",
   "mimetype": "text/x-python",
   "name": "python",
   "nbconvert_exporter": "python",
   "pygments_lexer": "ipython3",
   "version": "3.7.6"
  }
 },
 "nbformat": 4,
 "nbformat_minor": 4
}
