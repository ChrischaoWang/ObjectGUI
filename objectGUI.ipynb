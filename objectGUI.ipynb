{
 "cells": [
  {
   "cell_type": "markdown",
   "metadata": {},
   "source": [
    "# Object GUI"
   ]
  },
  {
   "cell_type": "markdown",
   "metadata": {},
   "source": [
    "## Choose the working directory"
   ]
  },
  {
   "cell_type": "code",
   "execution_count": 1,
   "metadata": {},
   "outputs": [
    {
     "data": {
      "application/vnd.jupyter.widget-view+json": {
       "model_id": "54ce6d0c83914eab974b02a985afd1c9",
       "version_major": 2,
       "version_minor": 0
      },
      "text/plain": [
       "FileChooser(path='/Users/chris/Documents/GitHub/ObjectGUI', filename='', show_hidden='False')"
      ]
     },
     "metadata": {},
     "output_type": "display_data"
    }
   ],
   "source": [
    "from ipyfilechooser import FileChooser\n",
    "import os\n",
    "\n",
    "# Create new FileChooser:\n",
    "# Path: current directory\n",
    "# Show hidden files: no\n",
    "# Use the default path and filename as selection: yes\n",
    "# Use folder icons: yes\n",
    "fdialog = FileChooser(\n",
    "    os.getcwd(),\n",
    "    filename='',\n",
    "    title='<b>Change Directory</b>',\n",
    "    show_hidden=False,\n",
    "    select_default=True,\n",
    "    use_dir_icons=True\n",
    ")\n",
    "\n",
    "display(fdialog)\n",
    "\n",
    "# Callback func\n",
    "def change_directory(chooser):\n",
    "    os.chdir(chooser.selected)\n",
    "    print(\"Change directory to: \" + os.getcwd())\n",
    "\n",
    "# Register callback function\n",
    "fdialog.register_callback(change_directory)\n"
   ]
  },
  {
   "cell_type": "markdown",
   "metadata": {},
   "source": [
    "## Choose Directory"
   ]
  },
  {
   "cell_type": "code",
   "execution_count": 2,
   "metadata": {
    "scrolled": true
   },
   "outputs": [
    {
     "data": {
      "application/vnd.jupyter.widget-view+json": {
       "model_id": "86ed03cf95e34248af1cb23b0453f038",
       "version_major": 2,
       "version_minor": 0
      },
      "text/plain": [
       "FileChooser(path='/Users/chris/Documents/GitHub/ObjectGUI', filename='', show_hidden='False')"
      ]
     },
     "metadata": {},
     "output_type": "display_data"
    },
    {
     "data": {
      "application/vnd.jupyter.widget-view+json": {
       "model_id": "baf778cf7ae744bcad2d279dfb779498",
       "version_major": 2,
       "version_minor": 0
      },
      "text/plain": [
       "Select(options=(), value=None)"
      ]
     },
     "metadata": {},
     "output_type": "display_data"
    }
   ],
   "source": [
    "import ipywidgets as widgets\n",
    "from IPython.display import clear_output\n",
    "from IPython.display import display\n",
    "import glob\n",
    "\n",
    "fdialog2 = FileChooser(\n",
    "    os.getcwd(),\n",
    "    filename='',\n",
    "    title='',\n",
    "    change_desc = 'Choose',\n",
    "    show_hidden=False,\n",
    "    select_default=True,\n",
    "    use_dir_icons=True\n",
    ")\n",
    "\n",
    "display(fdialog2)\n",
    "\n",
    "module_list = {}\n",
    "module_sel = widgets.Select()\n",
    "module_sel.options = module_list.keys()\n",
    "display(module_sel)"
   ]
  },
  {
   "cell_type": "markdown",
   "metadata": {},
   "source": [
    "## Object"
   ]
  },
  {
   "cell_type": "code",
   "execution_count": 3,
   "metadata": {},
   "outputs": [
    {
     "data": {
      "application/vnd.jupyter.widget-view+json": {
       "model_id": "0be26c09737044f68d9550fd00de42d8",
       "version_major": 2,
       "version_minor": 0
      },
      "text/plain": [
       "Select(options=(), rows=10, value=None)"
      ]
     },
     "metadata": {},
     "output_type": "display_data"
    }
   ],
   "source": [
    "# create initial widget\n",
    "object_sel = widgets.Select()\n",
    "object_sel.options = []\n",
    "object_sel.rows=10\n",
    "display(object_sel)\n",
    "\n",
    "# Callback func\n",
    "def search_module(chooser):\n",
    "    cw = os.getcwd()\n",
    "    os.chdir(chooser.selected)\n",
    "    module_name = os.path.basename(os.path.normpath(chooser.selected))\n",
    "    global module_list\n",
    "    class_list = []\n",
    "    # look for Module name folder\n",
    "    if bool(glob.glob(module_name)):\n",
    "        os.chdir(module_name)\n",
    "        if bool(glob.glob(\"__init__.py\")):\n",
    "            ini_file = open(\"__init__.py\")\n",
    "            for line in ini_file.readlines():\n",
    "                # skip empty lines\n",
    "                line = line.strip()\n",
    "                if not line:  # line is blank\n",
    "                    continue\n",
    "                last_word = line.split()[-1]\n",
    "                if(last_word[0].isupper()):\n",
    "                    class_list += [last_word]\n",
    "            ini_file.close()\n",
    "    # change possible selections\n",
    "    module_list[module_name] = class_list\n",
    "    module_sel.options = module_list.keys()\n",
    "    module_sel.value = module_name\n",
    "    display(module_sel)\n",
    "    os.chdir(cw)\n",
    "\n",
    "# Register callback function\n",
    "fdialog2.register_callback(search_module)\n",
    "\n",
    "def on_change(change):\n",
    "    if change['type'] == 'change' and change['name'] == 'value':\n",
    "        module_name = change['new']\n",
    "#         object_sel.value = None\n",
    "        object_sel.options = module_list[module_name]\n",
    "        display(object_sel)\n",
    "\n",
    "module_sel.observe(on_change)"
   ]
  },
  {
   "cell_type": "markdown",
   "metadata": {},
   "source": [
    "## Constructor Options"
   ]
  },
  {
   "cell_type": "code",
   "execution_count": 4,
   "metadata": {},
   "outputs": [
    {
     "data": {
      "application/vnd.jupyter.widget-view+json": {
       "model_id": "cdce73fba9a84f4ab204c5f06e533bfa",
       "version_major": 2,
       "version_minor": 0
      },
      "text/plain": [
       "VBox()"
      ]
     },
     "metadata": {},
     "output_type": "display_data"
    },
    {
     "data": {
      "application/vnd.jupyter.widget-view+json": {
       "model_id": "c5b4ec48a52b48878262d17e1c9500a3",
       "version_major": 2,
       "version_minor": 0
      },
      "text/plain": [
       "Button(description='Done', style=ButtonStyle())"
      ]
     },
     "metadata": {},
     "output_type": "display_data"
    },
    {
     "data": {
      "application/vnd.jupyter.widget-view+json": {
       "model_id": "4a2ed3d6d45543aaa8f7da3c6d10e293",
       "version_major": 2,
       "version_minor": 0
      },
      "text/plain": [
       "Output()"
      ]
     },
     "metadata": {},
     "output_type": "display_data"
    }
   ],
   "source": [
    "import importlib\n",
    "\n",
    "text_display = widgets.VBox([])\n",
    "display(text_display)\n",
    "\n",
    "def on_select_object(change):\n",
    "    if change['type'] == 'change' and change['name'] == 'value':\n",
    "        object_name = change['new']\n",
    "        module_import = importlib.import_module(module_sel.value)\n",
    "        object_import = getattr(module_import, object_name)\n",
    "        argsList = getattr(object_import, 'argsList', 'None')\n",
    "        text_list = []\n",
    "        if argsList != 'None':\n",
    "            for key in argsList:\n",
    "                if type(key[1]) == str:\n",
    "                    a = widgets.Text(value = key[1],\n",
    "                                 placeholder='Type something',\n",
    "                                 description= key[0],\n",
    "                                 disabled=False)\n",
    "                    text_list += [a]\n",
    "                elif type(key[1]) == int:\n",
    "                    a = widgets.IntText(\n",
    "                                value=key[1],\n",
    "                                description=key[0],\n",
    "                                disabled=False)\n",
    "                    text_list += [a]\n",
    "                elif type(key[1]) == bool:\n",
    "                    a = widgets.Checkbox(\n",
    "                                value=key[1],\n",
    "                                description=key[0],\n",
    "                                disabled=False)\n",
    "                    text_list += [a]\n",
    "                else:\n",
    "                    a = widgets.Text(value = str(key[1]),\n",
    "                                 placeholder='Type something',\n",
    "                                 description= key[0],\n",
    "                                 disabled=False)\n",
    "                    text_list += [a]\n",
    "        text_display.children=tuple(text_list)     \n",
    "\n",
    "object_sel.observe(on_select_object)\n",
    "\n",
    "updated_arg_list = {}\n",
    "button = widgets.Button(description='Done')\n",
    "out = widgets.Output()\n",
    "\n",
    "def on_button_clicked(_):\n",
    "    arg = text_display.children\n",
    "    with out:\n",
    "        global updated_arg_list\n",
    "        updated_arg_list = {}\n",
    "        for a in arg:\n",
    "            updated_arg_list[a.description]=a.value\n",
    "        display('Done')\n",
    "            \n",
    "button.on_click(on_button_clicked)            \n",
    "display(button)\n",
    "display(out)"
   ]
  },
  {
   "cell_type": "code",
   "execution_count": null,
   "metadata": {},
   "outputs": [],
   "source": []
  }
 ],
 "metadata": {
  "kernelspec": {
   "display_name": "Python 3",
   "language": "python",
   "name": "python3"
  },
  "language_info": {
   "codemirror_mode": {
    "name": "ipython",
    "version": 3
   },
   "file_extension": ".py",
   "mimetype": "text/x-python",
   "name": "python",
   "nbconvert_exporter": "python",
   "pygments_lexer": "ipython3",
   "version": "3.7.6"
  }
 },
 "nbformat": 4,
 "nbformat_minor": 2
}
