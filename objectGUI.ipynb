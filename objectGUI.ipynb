{
 "cells": [
  {
   "cell_type": "markdown",
   "metadata": {},
   "source": [
    "# Object GUI"
   ]
  },
  {
   "cell_type": "markdown",
   "metadata": {},
   "source": [
    "## Choose the working directory"
   ]
  },
  {
   "cell_type": "code",
   "execution_count": 12,
   "metadata": {},
   "outputs": [
    {
     "data": {
      "application/vnd.jupyter.widget-view+json": {
       "model_id": "effc7a540182462f8c49b54a8bd619a3",
       "version_major": 2,
       "version_minor": 0
      },
      "text/plain": [
       "FileChooser(path='/Users/chris/Documents/GitHub/ObjectGUI', filename='', show_hidden='False')"
      ]
     },
     "metadata": {},
     "output_type": "display_data"
    },
    {
     "data": {
      "application/vnd.jupyter.widget-view+json": {
       "model_id": "e15b68c1b2fb45ac81d5dd984e6c6404",
       "version_major": 2,
       "version_minor": 0
      },
      "text/plain": [
       "Output()"
      ]
     },
     "metadata": {},
     "output_type": "display_data"
    }
   ],
   "source": [
    "from ipyfilechooser import FileChooser\n",
    "import ipywidgets as widgets\n",
    "from IPython.display import clear_output\n",
    "import os\n",
    "import glob\n",
    "import hickle\n",
    "import importlib\n",
    "\n",
    "\n",
    "# create initial widget\n",
    "module_sel = widgets.Select()\n",
    "module_sel.options = []\n",
    "\n",
    "object_sel = widgets.Select()\n",
    "object_sel.option = []\n",
    "object_sel.rows=10\n",
    "\n",
    "text_display = widgets.VBox([])\n",
    "\n",
    "class ObjectGUI:\n",
    "    def __init__(self, *args, **kwargs):\n",
    "        if bool(glob.glob(\"config.hkl\")):\n",
    "            data = hickle.load(\"config.hkl\")\n",
    "            for (k, v) in data.items():\n",
    "                setattr(self, k, v)\n",
    "            # set up\n",
    "            module_sel.options = self.module_list.keys()\n",
    "            if module_sel.value == None:\n",
    "                object_sel.option = []\n",
    "            else:\n",
    "                object_sel.options = self.module_list[module_sel.value]\n",
    "                object_sel.value = self.module_list[module_sel.value][0]\n",
    "            for module in module_sel.options:\n",
    "                importlib.import_module(module)\n",
    "            os.chdir(self.work_directory)\n",
    "            \n",
    "            # update argList\n",
    "            module_import = importlib.import_module(module_sel.value)\n",
    "            object_import = getattr(module_import, object_sel.value)\n",
    "            argsList = getattr(object_import, 'argsList', 'None')\n",
    "            text_list = []\n",
    "            if argsList != 'None':\n",
    "                for key in argsList:\n",
    "                    if type(key[1]) == str:\n",
    "                        a = widgets.Text(value = key[1],\n",
    "                                     placeholder='Type something',\n",
    "                                     description= key[0],\n",
    "                                     disabled=False)\n",
    "                        text_list += [a]\n",
    "                    elif type(key[1]) == int:\n",
    "                        a = widgets.IntText(\n",
    "                                    value=key[1],\n",
    "                                    description=key[0],\n",
    "                                    disabled=False)\n",
    "                        text_list += [a]\n",
    "                    elif type(key[1]) == bool:\n",
    "                        a = widgets.Checkbox(\n",
    "                                    value=key[1],\n",
    "                                    description=key[0],\n",
    "                                    disabled=False)\n",
    "                        text_list += [a]\n",
    "                    else:\n",
    "                        a = widgets.Text(value = str(key[1]),\n",
    "                                     placeholder='Type something',\n",
    "                                     description= key[0],\n",
    "                                     disabled=False)\n",
    "                        text_list += [a]\n",
    "            text_display.children=tuple(text_list)\n",
    "        else:\n",
    "            self.module_list = {}\n",
    "            self.work_directory = os.getcwd()\n",
    "            self.config_directory = os.getcwd()\n",
    "    \n",
    "    def save(self):\n",
    "        tosave = {}\n",
    "        for (k, v) in self.__dict__.items():\n",
    "            tosave[k] = v\n",
    "        os.chdir(self.config_directory)\n",
    "        hickle.dump(tosave, \"config.hkl\", mode=\"w\")\n",
    "        os.chdir(self.work_directory)\n",
    "\n",
    "\n",
    "# create setting object        \n",
    "config = ObjectGUI()\n",
    "        \n",
    "# Create new FileChooser:\n",
    "# Path: current directory\n",
    "# Show hidden files: no\n",
    "fdialog = FileChooser(\n",
    "    config.work_directory,\n",
    "    filename='',\n",
    "    title='<b>Change Directory</b>',\n",
    "    show_hidden=False,\n",
    "    select_default=True,\n",
    "    use_dir_icons=True\n",
    ")\n",
    "\n",
    "display(fdialog)\n",
    "\n",
    "cwd_out = widgets.Output()\n",
    "display(cwd_out)\n",
    "# Callback func\n",
    "def change_directory(chooser):\n",
    "    config.work_directory = chooser.selected\n",
    "    os.chdir(chooser.selected)\n",
    "    with cwd_out:\n",
    "        display(\"Change directory to: \" + os.getcwd())\n",
    "\n",
    "# Register callback function\n",
    "fdialog.register_callback(change_directory)\n"
   ]
  },
  {
   "cell_type": "markdown",
   "metadata": {},
   "source": [
    "## Choose Directory"
   ]
  },
  {
   "cell_type": "code",
   "execution_count": 13,
   "metadata": {
    "scrolled": true
   },
   "outputs": [
    {
     "data": {
      "application/vnd.jupyter.widget-view+json": {
       "model_id": "950e2270a8c440ca9524055db1939846",
       "version_major": 2,
       "version_minor": 0
      },
      "text/plain": [
       "FileChooser(path='/Users/chris/Documents/GitHub/ObjectGUI', filename='', show_hidden='False')"
      ]
     },
     "metadata": {},
     "output_type": "display_data"
    },
    {
     "data": {
      "application/vnd.jupyter.widget-view+json": {
       "model_id": "8cd8c652e95e4243abffebf04efdaad7",
       "version_major": 2,
       "version_minor": 0
      },
      "text/plain": [
       "Select(options=(), value=None)"
      ]
     },
     "metadata": {},
     "output_type": "display_data"
    }
   ],
   "source": [
    "fdialog2 = FileChooser(\n",
    "    os.getcwd(),\n",
    "    filename='',\n",
    "    title='',\n",
    "    change_desc = 'Choose',\n",
    "    show_hidden=False,\n",
    "    select_default=True,\n",
    "    use_dir_icons=True\n",
    ")\n",
    "\n",
    "display(fdialog2)\n",
    "display(module_sel)"
   ]
  },
  {
   "cell_type": "markdown",
   "metadata": {},
   "source": [
    "## Object"
   ]
  },
  {
   "cell_type": "code",
   "execution_count": 14,
   "metadata": {},
   "outputs": [
    {
     "data": {
      "application/vnd.jupyter.widget-view+json": {
       "model_id": "3e05cdfbc7284b11bdf69072d189a15c",
       "version_major": 2,
       "version_minor": 0
      },
      "text/plain": [
       "Select(options=(), rows=10, value=None)"
      ]
     },
     "metadata": {},
     "output_type": "display_data"
    }
   ],
   "source": [
    "display(object_sel)\n",
    "\n",
    "# Callback func\n",
    "def search_module(chooser):\n",
    "    cw = os.getcwd()\n",
    "    os.chdir(chooser.selected)\n",
    "    module_name = os.path.basename(os.path.normpath(chooser.selected))\n",
    "    class_list = []\n",
    "    # look for Module name folder\n",
    "    if bool(glob.glob(module_name)):\n",
    "        os.chdir(module_name)\n",
    "        if bool(glob.glob(\"__init__.py\")):\n",
    "            ini_file = open(\"__init__.py\")\n",
    "            for line in ini_file.readlines():\n",
    "                # skip empty lines\n",
    "                line = line.strip()\n",
    "                if not line:  # line is blank\n",
    "                    continue\n",
    "                last_word = line.split()[-1]\n",
    "                if(last_word[0].isupper()):\n",
    "                    class_list += [last_word]\n",
    "            ini_file.close()\n",
    "    # change possible selections\n",
    "    config.module_list[module_name] = class_list\n",
    "    module_sel.options = config.module_list.keys()\n",
    "    module_sel.value = module_name\n",
    "    display(module_sel)\n",
    "    os.chdir(cw)\n",
    "\n",
    "# Register callback function\n",
    "fdialog2.register_callback(search_module)\n",
    "\n",
    "def on_change(change):\n",
    "    if change['type'] == 'change' and change['name'] == 'value':\n",
    "        module_name = change['new']\n",
    "        object_sel.options = config.module_list[module_name]\n",
    "        object_sel.value = config.module_list[module_name][0]\n",
    "        display(object_sel)\n",
    "\n",
    "module_sel.observe(on_change)"
   ]
  },
  {
   "cell_type": "markdown",
   "metadata": {},
   "source": [
    "## Constructor Options"
   ]
  },
  {
   "cell_type": "code",
   "execution_count": 15,
   "metadata": {},
   "outputs": [
    {
     "data": {
      "application/vnd.jupyter.widget-view+json": {
       "model_id": "c6c55a404780406691afdbb97aa1157f",
       "version_major": 2,
       "version_minor": 0
      },
      "text/plain": [
       "VBox()"
      ]
     },
     "metadata": {},
     "output_type": "display_data"
    },
    {
     "data": {
      "application/vnd.jupyter.widget-view+json": {
       "model_id": "704dfcbcf6654ea2a27ee8ae2d7fe8c7",
       "version_major": 2,
       "version_minor": 0
      },
      "text/plain": [
       "Button(description='Done', style=ButtonStyle())"
      ]
     },
     "metadata": {},
     "output_type": "display_data"
    },
    {
     "data": {
      "application/vnd.jupyter.widget-view+json": {
       "model_id": "03e04d218c7944d3a8e74f79fcc86c6a",
       "version_major": 2,
       "version_minor": 0
      },
      "text/plain": [
       "Output()"
      ]
     },
     "metadata": {},
     "output_type": "display_data"
    }
   ],
   "source": [
    "display(text_display)\n",
    "\n",
    "module_import = None\n",
    "object_import = None\n",
    "\n",
    "def on_select_object(change):\n",
    "    global module_import\n",
    "    global object_import\n",
    "    if change['type'] == 'change' and change['name'] == 'value':\n",
    "        object_name = change['new']\n",
    "        module_import = importlib.import_module(module_sel.value)\n",
    "        object_import = getattr(module_import, object_name)\n",
    "        argsList = getattr(object_import, 'argsList', 'None')\n",
    "        text_list = []\n",
    "        if argsList != 'None':\n",
    "            for key in argsList:\n",
    "                if type(key[1]) == str:\n",
    "                    a = widgets.Text(value = key[1],\n",
    "                                 placeholder='Type something',\n",
    "                                 description= key[0],\n",
    "                                 disabled=False)\n",
    "                    text_list += [a]\n",
    "                elif type(key[1]) == int:\n",
    "                    a = widgets.IntText(\n",
    "                                value=key[1],\n",
    "                                description=key[0],\n",
    "                                disabled=False)\n",
    "                    text_list += [a]\n",
    "                elif type(key[1]) == bool:\n",
    "                    a = widgets.Checkbox(\n",
    "                                value=key[1],\n",
    "                                description=key[0],\n",
    "                                disabled=False)\n",
    "                    text_list += [a]\n",
    "                else:\n",
    "                    a = widgets.Text(value = str(key[1]),\n",
    "                                 placeholder='Type something',\n",
    "                                 description= key[0],\n",
    "                                 disabled=False)\n",
    "                    text_list += [a]\n",
    "        text_display.children=tuple(text_list)\n",
    "\n",
    "object_sel.observe(on_select_object)\n",
    "\n",
    "updated_arg_list = {}\n",
    "button = widgets.Button(description='Done')\n",
    "out = widgets.Output()\n",
    "\n",
    "def on_button_clicked(_):\n",
    "    arg = text_display.children\n",
    "    with out:\n",
    "        global updated_arg_list\n",
    "        updated_arg_list = {}\n",
    "        for a in arg:\n",
    "            updated_arg_list[a.description]=a.value\n",
    "        display('Done')\n",
    "            \n",
    "button.on_click(on_button_clicked)            \n",
    "display(button)\n",
    "display(out)"
   ]
  },
  {
   "cell_type": "markdown",
   "metadata": {},
   "source": [
    "## Object creation"
   ]
  },
  {
   "cell_type": "code",
   "execution_count": 16,
   "metadata": {},
   "outputs": [
    {
     "data": {
      "application/vnd.jupyter.widget-view+json": {
       "model_id": "220ef227b797455eb665f52d2380f576",
       "version_major": 2,
       "version_minor": 0
      },
      "text/plain": [
       "Button(description='Proceed', style=ButtonStyle())"
      ]
     },
     "metadata": {},
     "output_type": "display_data"
    },
    {
     "data": {
      "application/vnd.jupyter.widget-view+json": {
       "model_id": "16f4fb8ef34648d08d0b145f6d5dbe99",
       "version_major": 2,
       "version_minor": 0
      },
      "text/plain": [
       "Output()"
      ]
     },
     "metadata": {},
     "output_type": "display_data"
    }
   ],
   "source": [
    "proceed_button = widgets.Button(description='Proceed')\n",
    "proceed_out = widgets.Output()\n",
    "\n",
    "def on_proceed_button_clicked(_):\n",
    "    with proceed_out:\n",
    "        object_create = object_import(**updated_arg_list)\n",
    "#         display(object_create.numSets)\n",
    "        display('Done')\n",
    "            \n",
    "proceed_button.on_click(on_proceed_button_clicked)            \n",
    "display(proceed_button)\n",
    "display(proceed_out)"
   ]
  },
  {
   "cell_type": "code",
   "execution_count": null,
   "metadata": {},
   "outputs": [],
   "source": [
    "config_button = widgets.Button(description='Save configurations')\n",
    "config_out = widgets.Output()\n",
    "\n",
    "def on_config_button_clicked(_):\n",
    "    with config_out:\n",
    "        config.save()\n",
    "        display('Saved')\n",
    "            \n",
    "config_button.on_click(on_config_button_clicked)            \n",
    "display(config_button)\n",
    "display(config_out)"
   ]
  }
 ],
 "metadata": {
  "kernelspec": {
   "display_name": "Python 3",
   "language": "python",
   "name": "python3"
  },
  "language_info": {
   "codemirror_mode": {
    "name": "ipython",
    "version": 3
   },
   "file_extension": ".py",
   "mimetype": "text/x-python",
   "name": "python",
   "nbconvert_exporter": "python",
   "pygments_lexer": "ipython3",
   "version": "3.7.6"
  }
 },
 "nbformat": 4,
 "nbformat_minor": 2
}
